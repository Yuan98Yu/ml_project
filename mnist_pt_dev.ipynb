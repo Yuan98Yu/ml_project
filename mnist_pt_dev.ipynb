{
 "cells": [
  {
   "cell_type": "markdown",
   "metadata": {},
   "source": [
    "# Dimension Reduction on MNIST"
   ]
  },
  {
   "cell_type": "markdown",
   "metadata": {},
   "source": [
    "## Uploading and visualization the MNIST Dataset"
   ]
  },
  {
   "cell_type": "code",
   "execution_count": 1,
   "metadata": {},
   "outputs": [],
   "source": [
    "# Importing packages\n",
    "import os\n",
    "import warnings # Current version of Seaborn generates a bunch of warnings that will be ignored.\n",
    "\n",
    "import numpy as np\n",
    "import pandas as pd\n",
    "import torch\n",
    "from torch.utils.data import DataLoader\n",
    "from torchvision import transforms as tt\n",
    "from torchvision.datasets import mnist\n",
    "import matplotlib.pyplot as plt\n",
    "import seaborn as sn\n",
    "\n",
    "\n",
    "warnings.filterwarnings('ignore')\n",
    "warnings.simplefilter('ignore')"
   ]
  },
  {
   "cell_type": "code",
   "execution_count": 2,
   "metadata": {},
   "outputs": [],
   "source": [
    "# configs\n",
    "data_dir = './dataset'"
   ]
  },
  {
   "cell_type": "code",
   "execution_count": 3,
   "metadata": {},
   "outputs": [],
   "source": [
    "# Download Mnist\n",
    "if not os.path.exists(f'{data_dir}/MNIST'):\n",
    "    train_set = mnist.MNIST(data_dir, train=True, download=True)\n",
    "    test_set = mnist.MNIST(data_dir, train=False, download=True)"
   ]
  },
  {
   "cell_type": "code",
   "execution_count": 15,
   "metadata": {},
   "outputs": [],
   "source": [
    "transform = tt.Compose([\n",
    "    np.array\n",
    "])\n",
    "train_set = mnist.MNIST(data_dir, train=True, download=False, transform=transform)\n",
    "test_set = mnist.MNIST(data_dir, train=False, download=False, transform=transform)"
   ]
  },
  {
   "cell_type": "code",
   "execution_count": 16,
   "metadata": {},
   "outputs": [],
   "source": [
    "def set_transform(transform, datasets: list):\n",
    "    for dataset in datasets:\n",
    "        dataset.transform = transform"
   ]
  },
  {
   "cell_type": "code",
   "execution_count": 17,
   "metadata": {},
   "outputs": [
    {
     "output_type": "stream",
     "name": "stdout",
     "text": [
      "===========================================Train Set Info===========================================\ndataset length: 60000\n**********************************************item 0:***********************************************\n<class 'tuple'> 2\n(28, 28)\n****************************************************************************************************\n===========================================Test Set Info============================================\ndataset length: 10000\n**********************************************item 0:***********************************************\n<class 'tuple'> 2\n(28, 28)\n****************************************************************************************************\n"
     ]
    }
   ],
   "source": [
    "# log train_set and test_set\n",
    "def log_mnist(dataset: mnist.MNIST):\n",
    "    train = dataset.train\n",
    "    print(f'{\"Train\" if train else \"Test\"} Set Info'.center(100, '='))\n",
    "    print(f'dataset length: {len(dataset)}')\n",
    "    print('item 0:'.center(100, '*'))\n",
    "    print(type(dataset[0]), len(dataset[0]))\n",
    "    # print([(type(item), item) for item in dataset[0]])\n",
    "    print(dataset[0][0].shape)\n",
    "    print('*'*100)\n",
    "\n",
    "log_mnist(train_set)\n",
    "log_mnist(test_set)"
   ]
  },
  {
   "cell_type": "code",
   "execution_count": 7,
   "metadata": {},
   "outputs": [
    {
     "output_type": "stream",
     "name": "stdout",
     "text": [
      "Label:  4\n"
     ]
    },
    {
     "output_type": "display_data",
     "data": {
      "text/plain": "<Figure size 360x360 with 1 Axes>",
      "image/svg+xml": "<?xml version=\"1.0\" encoding=\"utf-8\" standalone=\"no\"?>\n<!DOCTYPE svg PUBLIC \"-//W3C//DTD SVG 1.1//EN\"\n  \"http://www.w3.org/Graphics/SVG/1.1/DTD/svg11.dtd\">\n<!-- Created with matplotlib (https://matplotlib.org/) -->\n<svg height=\"302.878125pt\" version=\"1.1\" viewBox=\"0 0 305.925 302.878125\" width=\"305.925pt\" xmlns=\"http://www.w3.org/2000/svg\" xmlns:xlink=\"http://www.w3.org/1999/xlink\">\n <metadata>\n  <rdf:RDF xmlns:cc=\"http://creativecommons.org/ns#\" xmlns:dc=\"http://purl.org/dc/elements/1.1/\" xmlns:rdf=\"http://www.w3.org/1999/02/22-rdf-syntax-ns#\">\n   <cc:Work>\n    <dc:type rdf:resource=\"http://purl.org/dc/dcmitype/StillImage\"/>\n    <dc:date>2021-06-08T14:02:45.267654</dc:date>\n    <dc:format>image/svg+xml</dc:format>\n    <dc:creator>\n     <cc:Agent>\n      <dc:title>Matplotlib v3.3.2, https://matplotlib.org/</dc:title>\n     </cc:Agent>\n    </dc:creator>\n   </cc:Work>\n  </rdf:RDF>\n </metadata>\n <defs>\n  <style type=\"text/css\">*{stroke-linecap:butt;stroke-linejoin:round;}</style>\n </defs>\n <g id=\"figure_1\">\n  <g id=\"patch_1\">\n   <path d=\"M 0 302.878125 \nL 305.925 302.878125 \nL 305.925 0 \nL 0 0 \nz\n\" style=\"fill:none;\"/>\n  </g>\n  <g id=\"axes_1\">\n   <g id=\"patch_2\">\n    <path d=\"M 26.925 279 \nL 298.725 279 \nL 298.725 7.2 \nL 26.925 7.2 \nz\n\" style=\"fill:#ffffff;\"/>\n   </g>\n   <g clip-path=\"url(#p8b377a6a87)\">\n    <image height=\"28\" id=\"imagee7a1eb992c\" style=\"image-rendering:crisp-edges;image-rendering:pixelated\" transform=\"matrix(9.714286 0 0 9.714286 26.925 7)\" width=\"28\" xlink:href=\"data:image/png;base64,\niVBORw0KGgoAAAANSUhEUgAAABwAAAAcCAYAAAByDd+UAAACFUlEQVR4nO2WTctpURTHl0seeYkSM6kzMTmfwERioER8CCMDvoGhOianzJShYm6GgWRGBlJKJ0opJpS8DOz9v4ObUy7PyzmXp3vr/mtN9tn//dt7r7Xax0BEoG/Uj++E/Qf+fUC3202KohDnnGw225d90BulUgmMMSyXS1gslq/69MGKxSI452CMIRQKafFqA5lMJkiShMvlogJFUXwN0Gg0QpIkMMbAGHst0O/3Q5ZlFXYFrlYr+Hy+5wJTqRSm0ykYYzidTigUClgsFuCco9Vqac3/xxMymQxms5kKCwQCICIoigLOOer1+nOAHo8HyWQSx+MRjDG02221GoPBIA6HAzjnSCQSfw50Op3o9XpqrqrVKjwej/q9UCioOXwPGI1Gkcvl4HQ6Pwd2u11wzsE5x+FwQCwWgyAIEAQBDocDnU4HnHMsl0t1XBAEBINByLKMfr8PANjv9482dA/MZrMYDAY3FXmN0WiEzWZz0xaPYjKZIJ1O361tuFJ/l91up3g8TpFIhMLhMAmCcDfHYDAQ8Mt+Pp+pVqsREVGlUiFFUWi73T5a+vNEv729wWq1Ip/P3/TifD6H1WpVQ3fRfBQulwvj8RiMMSiKorVCofl52u12tF6viYio0WhotWt/D71eL/n9fiIiajabmoFEGq9EFEU1h1q9pOdKnyFNOzSbzSiXyxgOh7pO+G4fvkr/1l+bHv0EVfS/L1Z+wxYAAAAASUVORK5CYII=\"/>\n   </g>\n   <g id=\"matplotlib.axis_1\">\n    <g id=\"xtick_1\">\n     <g id=\"line2d_1\">\n      <defs>\n       <path d=\"M 0 0 \nL 0 3.5 \n\" id=\"mcf45ac098e\" style=\"stroke:#000000;stroke-width:0.8;\"/>\n      </defs>\n      <g>\n       <use style=\"stroke:#000000;stroke-width:0.8;\" x=\"31.778571\" xlink:href=\"#mcf45ac098e\" y=\"279\"/>\n      </g>\n     </g>\n     <g id=\"text_1\">\n      <!-- 0 -->\n      <g transform=\"translate(28.597321 293.598437)scale(0.1 -0.1)\">\n       <defs>\n        <path d=\"M 31.78125 66.40625 \nQ 24.171875 66.40625 20.328125 58.90625 \nQ 16.5 51.421875 16.5 36.375 \nQ 16.5 21.390625 20.328125 13.890625 \nQ 24.171875 6.390625 31.78125 6.390625 \nQ 39.453125 6.390625 43.28125 13.890625 \nQ 47.125 21.390625 47.125 36.375 \nQ 47.125 51.421875 43.28125 58.90625 \nQ 39.453125 66.40625 31.78125 66.40625 \nz\nM 31.78125 74.21875 \nQ 44.046875 74.21875 50.515625 64.515625 \nQ 56.984375 54.828125 56.984375 36.375 \nQ 56.984375 17.96875 50.515625 8.265625 \nQ 44.046875 -1.421875 31.78125 -1.421875 \nQ 19.53125 -1.421875 13.0625 8.265625 \nQ 6.59375 17.96875 6.59375 36.375 \nQ 6.59375 54.828125 13.0625 64.515625 \nQ 19.53125 74.21875 31.78125 74.21875 \nz\n\" id=\"DejaVuSans-48\"/>\n       </defs>\n       <use xlink:href=\"#DejaVuSans-48\"/>\n      </g>\n     </g>\n    </g>\n    <g id=\"xtick_2\">\n     <g id=\"line2d_2\">\n      <g>\n       <use style=\"stroke:#000000;stroke-width:0.8;\" x=\"80.314286\" xlink:href=\"#mcf45ac098e\" y=\"279\"/>\n      </g>\n     </g>\n     <g id=\"text_2\">\n      <!-- 5 -->\n      <g transform=\"translate(77.133036 293.598437)scale(0.1 -0.1)\">\n       <defs>\n        <path d=\"M 10.796875 72.90625 \nL 49.515625 72.90625 \nL 49.515625 64.59375 \nL 19.828125 64.59375 \nL 19.828125 46.734375 \nQ 21.96875 47.46875 24.109375 47.828125 \nQ 26.265625 48.1875 28.421875 48.1875 \nQ 40.625 48.1875 47.75 41.5 \nQ 54.890625 34.8125 54.890625 23.390625 \nQ 54.890625 11.625 47.5625 5.09375 \nQ 40.234375 -1.421875 26.90625 -1.421875 \nQ 22.3125 -1.421875 17.546875 -0.640625 \nQ 12.796875 0.140625 7.71875 1.703125 \nL 7.71875 11.625 \nQ 12.109375 9.234375 16.796875 8.0625 \nQ 21.484375 6.890625 26.703125 6.890625 \nQ 35.15625 6.890625 40.078125 11.328125 \nQ 45.015625 15.765625 45.015625 23.390625 \nQ 45.015625 31 40.078125 35.4375 \nQ 35.15625 39.890625 26.703125 39.890625 \nQ 22.75 39.890625 18.8125 39.015625 \nQ 14.890625 38.140625 10.796875 36.28125 \nz\n\" id=\"DejaVuSans-53\"/>\n       </defs>\n       <use xlink:href=\"#DejaVuSans-53\"/>\n      </g>\n     </g>\n    </g>\n    <g id=\"xtick_3\">\n     <g id=\"line2d_3\">\n      <g>\n       <use style=\"stroke:#000000;stroke-width:0.8;\" x=\"128.85\" xlink:href=\"#mcf45ac098e\" y=\"279\"/>\n      </g>\n     </g>\n     <g id=\"text_3\">\n      <!-- 10 -->\n      <g transform=\"translate(122.4875 293.598437)scale(0.1 -0.1)\">\n       <defs>\n        <path d=\"M 12.40625 8.296875 \nL 28.515625 8.296875 \nL 28.515625 63.921875 \nL 10.984375 60.40625 \nL 10.984375 69.390625 \nL 28.421875 72.90625 \nL 38.28125 72.90625 \nL 38.28125 8.296875 \nL 54.390625 8.296875 \nL 54.390625 0 \nL 12.40625 0 \nz\n\" id=\"DejaVuSans-49\"/>\n       </defs>\n       <use xlink:href=\"#DejaVuSans-49\"/>\n       <use x=\"63.623047\" xlink:href=\"#DejaVuSans-48\"/>\n      </g>\n     </g>\n    </g>\n    <g id=\"xtick_4\">\n     <g id=\"line2d_4\">\n      <g>\n       <use style=\"stroke:#000000;stroke-width:0.8;\" x=\"177.385714\" xlink:href=\"#mcf45ac098e\" y=\"279\"/>\n      </g>\n     </g>\n     <g id=\"text_4\">\n      <!-- 15 -->\n      <g transform=\"translate(171.023214 293.598437)scale(0.1 -0.1)\">\n       <use xlink:href=\"#DejaVuSans-49\"/>\n       <use x=\"63.623047\" xlink:href=\"#DejaVuSans-53\"/>\n      </g>\n     </g>\n    </g>\n    <g id=\"xtick_5\">\n     <g id=\"line2d_5\">\n      <g>\n       <use style=\"stroke:#000000;stroke-width:0.8;\" x=\"225.921429\" xlink:href=\"#mcf45ac098e\" y=\"279\"/>\n      </g>\n     </g>\n     <g id=\"text_5\">\n      <!-- 20 -->\n      <g transform=\"translate(219.558929 293.598437)scale(0.1 -0.1)\">\n       <defs>\n        <path d=\"M 19.1875 8.296875 \nL 53.609375 8.296875 \nL 53.609375 0 \nL 7.328125 0 \nL 7.328125 8.296875 \nQ 12.9375 14.109375 22.625 23.890625 \nQ 32.328125 33.6875 34.8125 36.53125 \nQ 39.546875 41.84375 41.421875 45.53125 \nQ 43.3125 49.21875 43.3125 52.78125 \nQ 43.3125 58.59375 39.234375 62.25 \nQ 35.15625 65.921875 28.609375 65.921875 \nQ 23.96875 65.921875 18.8125 64.3125 \nQ 13.671875 62.703125 7.8125 59.421875 \nL 7.8125 69.390625 \nQ 13.765625 71.78125 18.9375 73 \nQ 24.125 74.21875 28.421875 74.21875 \nQ 39.75 74.21875 46.484375 68.546875 \nQ 53.21875 62.890625 53.21875 53.421875 \nQ 53.21875 48.921875 51.53125 44.890625 \nQ 49.859375 40.875 45.40625 35.40625 \nQ 44.1875 33.984375 37.640625 27.21875 \nQ 31.109375 20.453125 19.1875 8.296875 \nz\n\" id=\"DejaVuSans-50\"/>\n       </defs>\n       <use xlink:href=\"#DejaVuSans-50\"/>\n       <use x=\"63.623047\" xlink:href=\"#DejaVuSans-48\"/>\n      </g>\n     </g>\n    </g>\n    <g id=\"xtick_6\">\n     <g id=\"line2d_6\">\n      <g>\n       <use style=\"stroke:#000000;stroke-width:0.8;\" x=\"274.457143\" xlink:href=\"#mcf45ac098e\" y=\"279\"/>\n      </g>\n     </g>\n     <g id=\"text_6\">\n      <!-- 25 -->\n      <g transform=\"translate(268.094643 293.598437)scale(0.1 -0.1)\">\n       <use xlink:href=\"#DejaVuSans-50\"/>\n       <use x=\"63.623047\" xlink:href=\"#DejaVuSans-53\"/>\n      </g>\n     </g>\n    </g>\n   </g>\n   <g id=\"matplotlib.axis_2\">\n    <g id=\"ytick_1\">\n     <g id=\"line2d_7\">\n      <defs>\n       <path d=\"M 0 0 \nL -3.5 0 \n\" id=\"mb8d9dccce3\" style=\"stroke:#000000;stroke-width:0.8;\"/>\n      </defs>\n      <g>\n       <use style=\"stroke:#000000;stroke-width:0.8;\" x=\"26.925\" xlink:href=\"#mb8d9dccce3\" y=\"12.053571\"/>\n      </g>\n     </g>\n     <g id=\"text_7\">\n      <!-- 0 -->\n      <g transform=\"translate(13.5625 15.85279)scale(0.1 -0.1)\">\n       <use xlink:href=\"#DejaVuSans-48\"/>\n      </g>\n     </g>\n    </g>\n    <g id=\"ytick_2\">\n     <g id=\"line2d_8\">\n      <g>\n       <use style=\"stroke:#000000;stroke-width:0.8;\" x=\"26.925\" xlink:href=\"#mb8d9dccce3\" y=\"60.589286\"/>\n      </g>\n     </g>\n     <g id=\"text_8\">\n      <!-- 5 -->\n      <g transform=\"translate(13.5625 64.388504)scale(0.1 -0.1)\">\n       <use xlink:href=\"#DejaVuSans-53\"/>\n      </g>\n     </g>\n    </g>\n    <g id=\"ytick_3\">\n     <g id=\"line2d_9\">\n      <g>\n       <use style=\"stroke:#000000;stroke-width:0.8;\" x=\"26.925\" xlink:href=\"#mb8d9dccce3\" y=\"109.125\"/>\n      </g>\n     </g>\n     <g id=\"text_9\">\n      <!-- 10 -->\n      <g transform=\"translate(7.2 112.924219)scale(0.1 -0.1)\">\n       <use xlink:href=\"#DejaVuSans-49\"/>\n       <use x=\"63.623047\" xlink:href=\"#DejaVuSans-48\"/>\n      </g>\n     </g>\n    </g>\n    <g id=\"ytick_4\">\n     <g id=\"line2d_10\">\n      <g>\n       <use style=\"stroke:#000000;stroke-width:0.8;\" x=\"26.925\" xlink:href=\"#mb8d9dccce3\" y=\"157.660714\"/>\n      </g>\n     </g>\n     <g id=\"text_10\">\n      <!-- 15 -->\n      <g transform=\"translate(7.2 161.459933)scale(0.1 -0.1)\">\n       <use xlink:href=\"#DejaVuSans-49\"/>\n       <use x=\"63.623047\" xlink:href=\"#DejaVuSans-53\"/>\n      </g>\n     </g>\n    </g>\n    <g id=\"ytick_5\">\n     <g id=\"line2d_11\">\n      <g>\n       <use style=\"stroke:#000000;stroke-width:0.8;\" x=\"26.925\" xlink:href=\"#mb8d9dccce3\" y=\"206.196429\"/>\n      </g>\n     </g>\n     <g id=\"text_11\">\n      <!-- 20 -->\n      <g transform=\"translate(7.2 209.995647)scale(0.1 -0.1)\">\n       <use xlink:href=\"#DejaVuSans-50\"/>\n       <use x=\"63.623047\" xlink:href=\"#DejaVuSans-48\"/>\n      </g>\n     </g>\n    </g>\n    <g id=\"ytick_6\">\n     <g id=\"line2d_12\">\n      <g>\n       <use style=\"stroke:#000000;stroke-width:0.8;\" x=\"26.925\" xlink:href=\"#mb8d9dccce3\" y=\"254.732143\"/>\n      </g>\n     </g>\n     <g id=\"text_12\">\n      <!-- 25 -->\n      <g transform=\"translate(7.2 258.531362)scale(0.1 -0.1)\">\n       <use xlink:href=\"#DejaVuSans-50\"/>\n       <use x=\"63.623047\" xlink:href=\"#DejaVuSans-53\"/>\n      </g>\n     </g>\n    </g>\n   </g>\n   <g id=\"patch_3\">\n    <path d=\"M 26.925 279 \nL 26.925 7.2 \n\" style=\"fill:none;stroke:#000000;stroke-linecap:square;stroke-linejoin:miter;stroke-width:0.8;\"/>\n   </g>\n   <g id=\"patch_4\">\n    <path d=\"M 298.725 279 \nL 298.725 7.2 \n\" style=\"fill:none;stroke:#000000;stroke-linecap:square;stroke-linejoin:miter;stroke-width:0.8;\"/>\n   </g>\n   <g id=\"patch_5\">\n    <path d=\"M 26.925 279 \nL 298.725 279 \n\" style=\"fill:none;stroke:#000000;stroke-linecap:square;stroke-linejoin:miter;stroke-width:0.8;\"/>\n   </g>\n   <g id=\"patch_6\">\n    <path d=\"M 26.925 7.2 \nL 298.725 7.2 \n\" style=\"fill:none;stroke:#000000;stroke-linecap:square;stroke-linejoin:miter;stroke-width:0.8;\"/>\n   </g>\n  </g>\n </g>\n <defs>\n  <clipPath id=\"p8b377a6a87\">\n   <rect height=\"271.8\" width=\"271.8\" x=\"26.925\" y=\"7.2\"/>\n  </clipPath>\n </defs>\n</svg>\n",
      "image/png": "[encoded data removed]"
     },
     "metadata": {
      "needs_background": "light"
     }
    }
   ],
   "source": [
    "def show_img(dataset, idx):\n",
    "    print('Label: ',dataset[idx][1])\n",
    "    # ploting a sample number visually\n",
    "    plt.figure(figsize=(5,5))\n",
    "\n",
    "    grid_data=dataset[idx][0].reshape(28,28) # reshaping from 1d to 2d\n",
    "    plt.imshow(grid_data,interpolation='none',cmap='gray')\n",
    "    plt.show()\n",
    "\n",
    "# ploting a sample number visually\n",
    "show_img(train_set, 150)"
   ]
  },
  {
   "cell_type": "markdown",
   "metadata": {},
   "source": [
    "## 2 D visualization of MNIST manually"
   ]
  },
  {
   "cell_type": "markdown",
   "metadata": {},
   "source": [
    "### 1 Data-preprocessing : standardizing tha dataset"
   ]
  },
  {
   "cell_type": "code",
   "execution_count": 19,
   "metadata": {},
   "outputs": [
    {
     "output_type": "stream",
     "name": "stdout",
     "text": [
      "torch.Size([1, 28, 28])\n",
      "[0.13066047807612147] [0.3346678650889437]\n"
     ]
    }
   ],
   "source": [
    "# 1 Compute mean and std\n",
    "transform = tt.Compose([\n",
    "    tt.ToTensor()\n",
    "])\n",
    "set_transform(transform, [train_set, test_set])\n",
    "print(train_set[0][0].shape)\n",
    "mean = [0]\n",
    "std = [0]\n",
    "for i in range(len(mean)):\n",
    "    for img, _ in train_set:\n",
    "        img = img.numpy()\n",
    "        mean[i] += np.mean(img)\n",
    "        std[i] += np.mean(np.square(img).flatten())\n",
    "    mean[i] /= len(train_set)\n",
    "    std[i] = np.sqrt(std[i] / len(train_set))\n",
    "\n",
    "print(mean, std)"
   ]
  },
  {
   "cell_type": "code",
   "execution_count": 21,
   "metadata": {},
   "outputs": [
    {
     "output_type": "stream",
     "name": "stdout",
     "text": [
      "********************************************sample_data*********************************************\n(60000, 1, 28, 28)\n"
     ]
    }
   ],
   "source": [
    "# standardizing the dataset with mean and std\n",
    "transform = tt.Compose([\n",
    "    tt.ToTensor(),\n",
    "    tt.Normalize(mean, std)\n",
    "])\n",
    "set_transform(transform, [train_set, test_set])\n",
    "train_loader = DataLoader(train_set, batch_size=len(train_set))\n",
    "sample_data = next(iter(train_loader))[0].numpy()\n",
    "print('sample_data'.center(100, '*'))\n",
    "print(sample_data.shape)"
   ]
  },
  {
   "source": [
    "### 2 Compute co-variance matrix with A^T * A"
   ],
   "cell_type": "markdown",
   "metadata": {}
  },
  {
   "cell_type": "code",
   "execution_count": null,
   "metadata": {},
   "outputs": [],
   "source": [
    "# creating same data sample for co-variance matrix : A^T * A\n",
    "sample_data = standard_data\n",
    "\n",
    "# Matrix multiplication with numpy\n",
    "covar_matrix = np.matmul(sample_data.T,sample_data)\n",
    "print('The shape of co-variance matrix = ',covar_matrix.shape)"
   ]
  },
  {
   "cell_type": "code",
   "execution_count": null,
   "metadata": {},
   "outputs": [],
   "source": [
    "# working with eigen-vectors and eigen-values\n",
    "from scipy.linalg import eigh # from scipy of linear algebra\n",
    "values, vectors = eigh(covar_matrix,eigvals=(782,783)) # returns the values and vectors from co-var matrix, top two(782,783)\n",
    "print('The shape of eigen vectors is ', vectors.shape)\n",
    "vectors = vectors.T\n",
    "print('The updated shape of eigen vectors is',vectors.shape)"
   ]
  },
  {
   "cell_type": "code",
   "execution_count": null,
   "metadata": {},
   "outputs": [],
   "source": [
    "# reducing the dimentions of 784-d data set into 2-d data set by the above eigen vector\n",
    "new_coordinates = np.matmul(vectors,sample_data.T)\n",
    "print('The resultent new data points\\' shape is ', vectors.shape, 'X', sample_data.T.shape, '=', new_coordinates.shape)"
   ]
  },
  {
   "cell_type": "code",
   "execution_count": null,
   "metadata": {},
   "outputs": [],
   "source": [
    "# appending labels with new data set of 2d projection\n",
    "new_coordinates = np.vstack((new_coordinates,label)).T"
   ]
  },
  {
   "cell_type": "code",
   "execution_count": null,
   "metadata": {},
   "outputs": [],
   "source": [
    "print('The shape of new data set is ',new_coordinates.shape)"
   ]
  },
  {
   "cell_type": "code",
   "execution_count": null,
   "metadata": {},
   "outputs": [],
   "source": [
    "# Creating the data frame\n",
    "matrix_df = pd.DataFrame(data= new_coordinates,columns=('1st_principal','2nd_principal','labels'))\n",
    "print(matrix_df.head(5))"
   ]
  },
  {
   "cell_type": "code",
   "execution_count": null,
   "metadata": {},
   "outputs": [],
   "source": [
    "sn.FacetGrid(matrix_df,hue='labels',size=6).map(plt.scatter,'1st_principal','2nd_principal').add_legend()\n",
    "plt.show()"
   ]
  },
  {
   "cell_type": "markdown",
   "metadata": {},
   "source": [
    "## 2 D visualization of MNIST using PCA"
   ]
  },
  {
   "cell_type": "code",
   "execution_count": null,
   "metadata": {},
   "outputs": [],
   "source": [
    "# using SKlearn importing PCA\n",
    "from sklearn import decomposition\n",
    "pca = decomposition.PCA()"
   ]
  },
  {
   "cell_type": "markdown",
   "metadata": {},
   "source": [
    "## PCA for dimensionality redcution (not for visualization)"
   ]
  },
  {
   "cell_type": "code",
   "execution_count": null,
   "metadata": {},
   "outputs": [],
   "source": [
    "# PCA for dimensionality redcution (non-visualization)\n",
    "\n",
    "pca.n_components = 784\n",
    "pca_data = pca.fit_transform(sample_data)\n",
    "\n",
    "percentage_var_explained = pca.explained_variance_ / np.sum(pca.explained_variance_);\n",
    "\n",
    "cum_var_explained = np.cumsum(percentage_var_explained)\n",
    "\n",
    "# Plot the PCA spectrum\n",
    "plt.figure(1, figsize=(6, 4))\n",
    "\n",
    "plt.clf()\n",
    "plt.plot(cum_var_explained, linewidth=2)\n",
    "plt.axis('tight')\n",
    "plt.grid()\n",
    "plt.xlabel('n_components')\n",
    "plt.ylabel('Cumulative_explained_variance')\n",
    "plt.show()\n",
    "\n",
    "\n",
    "# If we take 200-dimensions, approx. 90% of variance is expalined."
   ]
  },
  {
   "cell_type": "code",
   "execution_count": null,
   "metadata": {},
   "outputs": [],
   "source": [
    "# directly entering parameters \n",
    "pca.n_components = 2\n",
    "pca_data = pca.fit_transform(sample_data)\n",
    "\n",
    "print('shape of pca_reduced data = ',pca_data.shape)"
   ]
  },
  {
   "cell_type": "code",
   "execution_count": null,
   "metadata": {},
   "outputs": [],
   "source": [
    "# Data massaging - adding label colomn to the reduced matrix\n",
    "pca_data = np.vstack((pca_data.T,label)).T"
   ]
  },
  {
   "cell_type": "code",
   "execution_count": null,
   "metadata": {},
   "outputs": [],
   "source": [
    "# dataframing and plotting the pca data\n",
    "pca_df = pd.DataFrame(data=pca_data,columns=('1st_principal','2nd_principal','labels'))\n",
    "sn.FacetGrid(pca_df,hue='labels',size=6).map(plt.scatter,'1st_principal','2nd_principal').add_legend()\n",
    "plt.show()"
   ]
  },
  {
   "cell_type": "markdown",
   "metadata": {},
   "source": [
    "## Data visualization using t-SNE"
   ]
  },
  {
   "cell_type": "code",
   "execution_count": null,
   "metadata": {},
   "outputs": [],
   "source": [
    "from sklearn.manifold import TSNE\n",
    "\n",
    "# picking 1000 datapoints\n",
    "data_1000 = standard_data[0:1000,:]\n",
    "label_1000 = label[0:1000]\n",
    "\n",
    "# designing model with default values perplexity = 30, n_iteration = 1000\n",
    "model = TSNE(n_components=2,random_state=0)\n",
    "tsne_data = model.fit_transform(data_1000)\n",
    "\n",
    "tsne_data = np.vstack((tsne_data.T,label_1000)).T\n",
    "tsne_df = pd.DataFrame(data=tsne_data,columns=('Dim_1','Dim_2','labels'))\n",
    "sn.FacetGrid(tsne_df,hue='labels',size=6).map(plt.scatter,'Dim_1','Dim_2').add_legend()\n",
    "plt.show()"
   ]
  },
  {
   "cell_type": "code",
   "execution_count": null,
   "metadata": {},
   "outputs": [],
   "source": [
    "# Designing model with perpelexity = 50\n",
    "\n",
    "model = TSNE(n_components=2,perplexity=50,random_state=0)\n",
    "tsne_data = model.fit_transform(data_1000)\n",
    "tsne_data = np.vstack((tsne_data.T,label_1000)).T\n",
    "tsne_df = pd.DataFrame(data=tsne_data,columns=('Dim_1','Dim_2','labels'))\n",
    "sn.FacetGrid(tsne_df,hue='labels',size=6).map(plt.scatter,'Dim_1','Dim_2').add_legend()\n",
    "plt.show()"
   ]
  },
  {
   "cell_type": "code",
   "execution_count": null,
   "metadata": {},
   "outputs": [],
   "source": [
    "# Designing the model with perplexity = 50 and iteration  = 5000\n",
    "\n",
    "model = TSNE(n_components=2,random_state=0,perplexity=50,n_iter=5000)\n",
    "tsne_data = model.fit_transform(data_1000)\n",
    "tsne_data = np.vstack((tsne_data.T,label_1000)).T\n",
    "tsne_df = pd.DataFrame(data= tsne_data,columns=('Dim_1','Dim_2','labels'))\n",
    "sn.FacetGrid(tsne_df,hue='labels',size=6).map(plt.scatter,'Dim_1','Dim_2').add_legend()\n",
    "plt.show()"
   ]
  },
  {
   "cell_type": "code",
   "execution_count": null,
   "metadata": {},
   "outputs": [],
   "source": [
    "# building models with 15k data set\n",
    "data_15k = standard_data[0:15000,:]\n",
    "label_15k = label[0:15000]\n",
    "\n",
    "model = TSNE(n_components=2,random_state=0)\n",
    "tsne_data = model.fit_transform(data_15k)\n",
    "tsne_data = np.vstack((tsne_data.T,label_15k)).T\n",
    "tsne_df = pd.DataFrame(data=tsne_data,columns=('Dim_1','Dim_2','labels'))\n",
    "sn.FacetGrid(tsne_df,hue='labels',size=6).map(plt.scatter,'Dim_1','Dim_2').add_legend()\n",
    "plt.show()"
   ]
  },
  {
   "cell_type": "code",
   "execution_count": null,
   "metadata": {},
   "outputs": [],
   "source": [
    "# Data modeling with 15k Training data set and 5000 \n",
    "model =  TSNE(n_components=2,random_state=0,perplexity=40,n_iter=5000)\n",
    "tsne_data = model.fit_transform(data_15k)\n",
    "tsne_data = np.vstack((tsne_data.T,label_15k)).T\n",
    "tsne_df = pd.DataFrame(data=tsne_data,columns=('Dim_1','Dim_2','labels'))\n",
    "sn.FacetGrid(tsne_df,hue='labels',size=6).map(plt.scatter,'Dim_1','Dim_2').add_legend()\n",
    "plt.show()"
   ]
  },
  {
   "cell_type": "code",
   "execution_count": null,
   "metadata": {},
   "outputs": [],
   "source": [
    "# Data modeling with whole Training data set(42k)\n",
    "data_42k = standard_data\n",
    "label_42k = label\n",
    "model = TSNE(n_components=2,random_state=0)\n",
    "tsne_data = model.fit_transform(data_42k)\n",
    "tsne_data = np.vstack((tsne_data.T,label_42k)).T\n",
    "tsne_df = pd.DataFrame(data=tsne_data,columns=('Dim_1','Dim_2','labels'))\n",
    "sn.FacetGrid(tsne_df,hue='labels',size=6).map(plt.scatter,'Dim_1','Dim_2').add_legend()\n",
    "plt.show()"
   ]
  }
 ],
 "metadata": {
  "kernelspec": {
   "display_name": "Python 3",
   "language": "python",
   "name": "python3"
  }
 },
 "nbformat": 4,
 "nbformat_minor": 4
}